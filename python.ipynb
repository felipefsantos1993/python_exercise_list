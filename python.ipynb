{
 "cells": [
  {
   "cell_type": "markdown",
   "id": "4e3c8c2a",
   "metadata": {},
   "source": [
    "##### 001. Crie um programa que escreva \"Olá Mundo!\" na tela."
   ]
  },
  {
   "cell_type": "markdown",
   "id": "8aa93ac9",
   "metadata": {},
   "source": [
    "##### 002. Faça um programa que leia o nome de uma pessoa e mostre uma mensagem de boas-vindas."
   ]
  },
  {
   "cell_type": "markdown",
   "id": "c3811728",
   "metadata": {},
   "source": [
    "##### 003. Crie um programa que leia dois números e mostre a soma entre eles."
   ]
  },
  {
   "cell_type": "markdown",
   "id": "b4dfe9e3",
   "metadata": {},
   "source": [
    "##### 004. Faça um programa que leia algo pelo teclado e mostre na tela o seu tipo primitivo e todas as informações possíveis sobre ele."
   ]
  },
  {
   "cell_type": "markdown",
   "id": "c2fb77dc",
   "metadata": {},
   "source": [
    "##### 005. Faça um programa que leia um número inteiro e mostre na tela o seu sucessor e seu antecessor."
   ]
  },
  {
   "cell_type": "markdown",
   "id": "a9202d31",
   "metadata": {},
   "source": [
    "##### 006. Crie um algoritmo que leia um número e mostre o seu dobro, triplo e raiz quadrada."
   ]
  },
  {
   "cell_type": "markdown",
   "id": "21a1d3ec",
   "metadata": {},
   "source": [
    "##### 007. Desenvolva um programa que leia as duas notas de um aluno, calcule e mostre a sua média."
   ]
  },
  {
   "cell_type": "markdown",
   "id": "5217ac93",
   "metadata": {},
   "source": [
    "##### 008. Escreva um programa que leia um valor em metros e o exiba convertido em centímetros e milímetros."
   ]
  },
  {
   "cell_type": "markdown",
   "id": "33179618",
   "metadata": {},
   "source": [
    "##### 009. Faça um programa que leia um número inteiro qualquer e mostre na tela a sua tabiada."
   ]
  },
  {
   "cell_type": "markdown",
   "id": "4659d0a8",
   "metadata": {},
   "source": [
    "##### 010. Crie um programa que leia quanto dinheiro uma pessoa tem na carteira e mostre quantos Dólares ela pode comprar."
   ]
  },
  {
   "cell_type": "markdown",
   "id": "fadd8599",
   "metadata": {},
   "source": [
    "##### 011. Faça um programa que leia a largura e a altura de uma parede em metros, calcule a sua área e a quantidade de tinta necessária para pintá-la, sabendo que cada litro de tinta pinta uma área de 2m²."
   ]
  },
  {
   "cell_type": "markdown",
   "id": "be33ce12",
   "metadata": {},
   "source": [
    "##### 012. Faça um algoritmo que leia o preço de um produto e mostre seu novo preço com 5% de desconto."
   ]
  },
  {
   "cell_type": "markdown",
   "id": "e374d117",
   "metadata": {},
   "source": [
    "##### 013. Faça um algoritmo que leia o salário de um funcionário e mostre seu novo salário com 15% de aumento."
   ]
  },
  {
   "cell_type": "markdown",
   "id": "74524d86",
   "metadata": {},
   "source": [
    "##### 014. Escreva um programa que converta uma temperatura digitada em °C e converta para °F."
   ]
  },
  {
   "cell_type": "markdown",
   "id": "72396eb4",
   "metadata": {},
   "source": [
    "##### 015. Escreva um programa que pergunte a quantidade de km percorridos por um carro alugado e a quantidade de dias pelos quais ele foi alugado. Calcule o preço a pagar, sabendo que o carro custa R$60.00 por dia e R$0.15 por km rodado."
   ]
  },
  {
   "cell_type": "markdown",
   "id": "c30830b5",
   "metadata": {},
   "source": [
    "##### 016. Crie um programa que leia um número Real qualquer pelo teclado e mostre na tela a sua porção inteira."
   ]
  },
  {
   "cell_type": "markdown",
   "id": "41f226c0",
   "metadata": {},
   "source": [
    "##### 017. Faça um programa que leia o comprimento do cateto oposto e do cateto adjacente de um triângulo retângulo, calcule e mostre o comprimento da hipotenusa."
   ]
  },
  {
   "cell_type": "markdown",
   "id": "485f6ad8",
   "metadata": {},
   "source": [
    "##### 018. Faça um programa que leia um ângulo qualquer e mostre na tela o valor do seno, cosseno e tangente desse ângulo."
   ]
  },
  {
   "cell_type": "markdown",
   "id": "9751dda6",
   "metadata": {},
   "source": [
    "##### 019. Um professor quer sortear um dos seus quatro alunos para apagar o quadro. Faça um programa que ajude ele, lendo o nome deles e escrevendo o nome do escolhido."
   ]
  },
  {
   "cell_type": "markdown",
   "id": "15f64f47",
   "metadata": {},
   "source": [
    "##### 020. O mesmo professor do desafio anterior quer sortear a ordem de apresentação de trabalhos dos alunos. Faça um programa que leia o nome dos quatro alunos e mostre a ordem sorteada."
   ]
  },
  {
   "cell_type": "markdown",
   "id": "d58d1c00",
   "metadata": {},
   "source": []
  },
  {
   "cell_type": "markdown",
   "id": "486674fb",
   "metadata": {},
   "source": []
  },
  {
   "cell_type": "markdown",
   "id": "0832f99c",
   "metadata": {},
   "source": []
  },
  {
   "cell_type": "markdown",
   "id": "4bd6026e",
   "metadata": {},
   "source": []
  },
  {
   "cell_type": "markdown",
   "id": "48787c0f",
   "metadata": {},
   "source": []
  },
  {
   "cell_type": "markdown",
   "id": "42233963",
   "metadata": {},
   "source": []
  },
  {
   "cell_type": "markdown",
   "id": "9d614c01",
   "metadata": {},
   "source": []
  },
  {
   "cell_type": "markdown",
   "id": "c5382fb7",
   "metadata": {},
   "source": []
  },
  {
   "cell_type": "markdown",
   "id": "ccab390a",
   "metadata": {},
   "source": []
  },
  {
   "cell_type": "markdown",
   "id": "e351943f",
   "metadata": {},
   "source": []
  },
  {
   "cell_type": "markdown",
   "id": "5c4a58f0",
   "metadata": {},
   "source": []
  },
  {
   "cell_type": "markdown",
   "id": "562e3134",
   "metadata": {},
   "source": []
  },
  {
   "cell_type": "markdown",
   "id": "f7a808e6",
   "metadata": {},
   "source": []
  },
  {
   "cell_type": "markdown",
   "id": "c7401c8a",
   "metadata": {},
   "source": []
  },
  {
   "cell_type": "markdown",
   "id": "e3f4271d",
   "metadata": {},
   "source": []
  },
  {
   "cell_type": "markdown",
   "id": "5342f1ae",
   "metadata": {},
   "source": []
  },
  {
   "cell_type": "markdown",
   "id": "949deca3",
   "metadata": {},
   "source": []
  },
  {
   "cell_type": "markdown",
   "id": "dacdaada",
   "metadata": {},
   "source": []
  },
  {
   "cell_type": "markdown",
   "id": "d9129d92",
   "metadata": {},
   "source": []
  },
  {
   "cell_type": "markdown",
   "id": "1bede171",
   "metadata": {},
   "source": []
  },
  {
   "cell_type": "markdown",
   "id": "c93a8c6d",
   "metadata": {},
   "source": []
  },
  {
   "cell_type": "markdown",
   "id": "a8475b6f",
   "metadata": {},
   "source": []
  },
  {
   "cell_type": "markdown",
   "id": "7368264c",
   "metadata": {},
   "source": []
  },
  {
   "cell_type": "markdown",
   "id": "dc836f7e",
   "metadata": {},
   "source": []
  },
  {
   "cell_type": "markdown",
   "id": "ff4407a7",
   "metadata": {},
   "source": []
  },
  {
   "cell_type": "markdown",
   "id": "134a1172",
   "metadata": {},
   "source": []
  },
  {
   "cell_type": "markdown",
   "id": "fe8e5755",
   "metadata": {},
   "source": []
  },
  {
   "cell_type": "markdown",
   "id": "7a934c15",
   "metadata": {},
   "source": []
  },
  {
   "cell_type": "markdown",
   "id": "10807201",
   "metadata": {},
   "source": []
  },
  {
   "cell_type": "markdown",
   "id": "36df9735",
   "metadata": {},
   "source": []
  },
  {
   "cell_type": "markdown",
   "id": "5d732657",
   "metadata": {},
   "source": []
  },
  {
   "cell_type": "markdown",
   "id": "4c1c28b9",
   "metadata": {},
   "source": []
  },
  {
   "cell_type": "markdown",
   "id": "680ab7f0",
   "metadata": {},
   "source": []
  },
  {
   "cell_type": "markdown",
   "id": "0c61d409",
   "metadata": {},
   "source": []
  },
  {
   "cell_type": "markdown",
   "id": "ae3570b0",
   "metadata": {},
   "source": []
  },
  {
   "cell_type": "markdown",
   "id": "f07fb797",
   "metadata": {},
   "source": []
  },
  {
   "cell_type": "markdown",
   "id": "10d8147a",
   "metadata": {},
   "source": []
  },
  {
   "cell_type": "markdown",
   "id": "59ae879b",
   "metadata": {},
   "source": []
  },
  {
   "cell_type": "markdown",
   "id": "a3fa484b",
   "metadata": {},
   "source": []
  },
  {
   "cell_type": "markdown",
   "id": "52513dd5",
   "metadata": {},
   "source": []
  },
  {
   "cell_type": "markdown",
   "id": "1aed2bb7",
   "metadata": {},
   "source": []
  },
  {
   "cell_type": "markdown",
   "id": "d7f80ef7",
   "metadata": {},
   "source": []
  },
  {
   "cell_type": "markdown",
   "id": "ed3651c3",
   "metadata": {},
   "source": []
  },
  {
   "cell_type": "markdown",
   "id": "f7f18bbd",
   "metadata": {},
   "source": []
  },
  {
   "cell_type": "markdown",
   "id": "4d3096c4",
   "metadata": {},
   "source": []
  },
  {
   "cell_type": "markdown",
   "id": "41f82309",
   "metadata": {},
   "source": []
  },
  {
   "cell_type": "markdown",
   "id": "98618859",
   "metadata": {},
   "source": []
  },
  {
   "cell_type": "markdown",
   "id": "9c391a22",
   "metadata": {},
   "source": []
  },
  {
   "cell_type": "markdown",
   "id": "020e48e6",
   "metadata": {},
   "source": []
  },
  {
   "cell_type": "markdown",
   "id": "ef687172",
   "metadata": {},
   "source": []
  },
  {
   "cell_type": "markdown",
   "id": "07c50959",
   "metadata": {},
   "source": []
  },
  {
   "cell_type": "markdown",
   "id": "e71c622f",
   "metadata": {},
   "source": []
  },
  {
   "cell_type": "markdown",
   "id": "00c7c549",
   "metadata": {},
   "source": []
  },
  {
   "cell_type": "markdown",
   "id": "680e7dec",
   "metadata": {},
   "source": []
  },
  {
   "cell_type": "markdown",
   "id": "350b6fa1",
   "metadata": {},
   "source": []
  },
  {
   "cell_type": "markdown",
   "id": "5de2b112",
   "metadata": {},
   "source": []
  },
  {
   "cell_type": "markdown",
   "id": "c7f88ec3",
   "metadata": {},
   "source": []
  },
  {
   "cell_type": "markdown",
   "id": "32821529",
   "metadata": {},
   "source": []
  },
  {
   "cell_type": "markdown",
   "id": "17eadfa3",
   "metadata": {},
   "source": []
  },
  {
   "cell_type": "markdown",
   "id": "8350d3a2",
   "metadata": {},
   "source": []
  },
  {
   "cell_type": "markdown",
   "id": "241ead30",
   "metadata": {},
   "source": []
  },
  {
   "cell_type": "markdown",
   "id": "bad132ca",
   "metadata": {},
   "source": []
  },
  {
   "cell_type": "markdown",
   "id": "16243df2",
   "metadata": {},
   "source": []
  },
  {
   "cell_type": "markdown",
   "id": "dfa8e01d",
   "metadata": {},
   "source": []
  },
  {
   "cell_type": "markdown",
   "id": "a8c9a06c",
   "metadata": {},
   "source": []
  },
  {
   "cell_type": "markdown",
   "id": "7f13e309",
   "metadata": {},
   "source": []
  },
  {
   "cell_type": "markdown",
   "id": "a2a95ace",
   "metadata": {},
   "source": []
  },
  {
   "cell_type": "markdown",
   "id": "06d8d236",
   "metadata": {},
   "source": []
  },
  {
   "cell_type": "markdown",
   "id": "fabb6647",
   "metadata": {},
   "source": []
  },
  {
   "cell_type": "markdown",
   "id": "2c0b3400",
   "metadata": {},
   "source": []
  },
  {
   "cell_type": "markdown",
   "id": "cdd5b9c5",
   "metadata": {},
   "source": []
  },
  {
   "cell_type": "markdown",
   "id": "aa977332",
   "metadata": {},
   "source": []
  },
  {
   "cell_type": "markdown",
   "id": "999c3805",
   "metadata": {},
   "source": []
  },
  {
   "cell_type": "markdown",
   "id": "a1e0bfeb",
   "metadata": {},
   "source": []
  },
  {
   "cell_type": "markdown",
   "id": "a537d5a9",
   "metadata": {},
   "source": []
  },
  {
   "cell_type": "markdown",
   "id": "5f355a89",
   "metadata": {},
   "source": []
  },
  {
   "cell_type": "markdown",
   "id": "7b87a04f",
   "metadata": {},
   "source": []
  },
  {
   "cell_type": "markdown",
   "id": "2cd8a229",
   "metadata": {},
   "source": []
  },
  {
   "cell_type": "markdown",
   "id": "b5823933",
   "metadata": {},
   "source": []
  },
  {
   "cell_type": "markdown",
   "id": "f5dd0fc0",
   "metadata": {},
   "source": []
  },
  {
   "cell_type": "markdown",
   "id": "a738c89e",
   "metadata": {},
   "source": []
  },
  {
   "cell_type": "markdown",
   "id": "aece2d1b",
   "metadata": {},
   "source": []
  },
  {
   "cell_type": "markdown",
   "id": "2332e547",
   "metadata": {},
   "source": []
  },
  {
   "cell_type": "markdown",
   "id": "e7bcb518",
   "metadata": {},
   "source": []
  },
  {
   "cell_type": "markdown",
   "id": "c8944475",
   "metadata": {},
   "source": []
  },
  {
   "cell_type": "markdown",
   "id": "6f7f1652",
   "metadata": {},
   "source": []
  },
  {
   "cell_type": "markdown",
   "id": "1901f8a3",
   "metadata": {},
   "source": [
    "# Pandas"
   ]
  },
  {
   "cell_type": "markdown",
   "id": "d56b677d",
   "metadata": {},
   "source": [
    "##### API"
   ]
  },
  {
   "cell_type": "markdown",
   "id": "25d25330",
   "metadata": {},
   "source": [
    "##### Tratamento"
   ]
  },
  {
   "cell_type": "markdown",
   "id": "61625f51",
   "metadata": {},
   "source": [
    "##### Query"
   ]
  }
 ],
 "metadata": {
  "kernelspec": {
   "display_name": "Python 3",
   "language": "python",
   "name": "python3"
  },
  "language_info": {
   "name": "python",
   "version": "3.12.8"
  }
 },
 "nbformat": 4,
 "nbformat_minor": 5
}
