{
 "cells": [
  {
   "cell_type": "markdown",
   "id": "4e3c8c2a",
   "metadata": {},
   "source": [
    "##### 001. Crie um programa que escreva \"Olá Mundo!\" na tela."
   ]
  },
  {
   "cell_type": "markdown",
   "id": "8aa93ac9",
   "metadata": {},
   "source": [
    "##### 002. Faça um programa que leia o nome de uma pessoa e mostre uma mensagem de boas-vindas."
   ]
  },
  {
   "cell_type": "markdown",
   "id": "c3811728",
   "metadata": {},
   "source": [
    "##### 003. Crie um programa que leia dois números e mostre a soma entre eles."
   ]
  },
  {
   "cell_type": "markdown",
   "id": "b4dfe9e3",
   "metadata": {},
   "source": [
    "##### 004. Faça um programa que leia algo pelo teclado e mostre na tela o seu tipo primitivo e todas as informações possíveis sobre ele."
   ]
  },
  {
   "cell_type": "markdown",
   "id": "c2fb77dc",
   "metadata": {},
   "source": [
    "##### 005. Faça um programa que leia um número inteiro e mostre na tela o seu sucessor e seu antecessor."
   ]
  },
  {
   "cell_type": "markdown",
   "id": "a9202d31",
   "metadata": {},
   "source": [
    "##### 006. Crie um algoritmo que leia um número e mostre o seu dobro, triplo e raiz quadrada."
   ]
  },
  {
   "cell_type": "markdown",
   "id": "21a1d3ec",
   "metadata": {},
   "source": [
    "##### 007. Desenvolva um programa que leia as duas notas de um aluno, calcule e mostre a sua média."
   ]
  },
  {
   "cell_type": "markdown",
   "id": "5217ac93",
   "metadata": {},
   "source": [
    "##### 008. Escreva um programa que leia um valor em metros e o exiba convertido em centímetros e milímetros."
   ]
  },
  {
   "cell_type": "markdown",
   "id": "33179618",
   "metadata": {},
   "source": [
    "##### 009. Faça um programa que leia um número inteiro qualquer e mostre na tela a sua tabiada."
   ]
  },
  {
   "cell_type": "markdown",
   "id": "4659d0a8",
   "metadata": {},
   "source": [
    "##### 010. Crie um programa que leia quanto dinheiro uma pessoa tem na carteira e mostre quantos Dólares ela pode comprar."
   ]
  },
  {
   "cell_type": "markdown",
   "id": "fadd8599",
   "metadata": {},
   "source": [
    "##### 011. Faça um programa que leia a largura e a altura de uma parede em metros, calcule a sua área e a quantidade de tinta necessária para pintá-la, sabendo que cada litro de tinta pinta uma área de 2m²."
   ]
  },
  {
   "cell_type": "markdown",
   "id": "be33ce12",
   "metadata": {},
   "source": [
    "##### 012. Faça um algoritmo que leia o preço de um produto e mostre seu novo preço com 5% de desconto."
   ]
  },
  {
   "cell_type": "markdown",
   "id": "e374d117",
   "metadata": {},
   "source": [
    "##### 013. Faça um algoritmo que leia o salário de um funcionário e mostre seu novo salário com 15% de aumento."
   ]
  },
  {
   "cell_type": "markdown",
   "id": "74524d86",
   "metadata": {},
   "source": [
    "##### 014. Escreva um programa que converta uma temperatura digitada em °C e converta para °F."
   ]
  },
  {
   "cell_type": "markdown",
   "id": "72396eb4",
   "metadata": {},
   "source": [
    "##### 015. Escreva um programa que pergunte a quantidade de km percorridos por um carro alugado e a quantidade de dias pelos quais ele foi alugado. Calcule o preço a pagar, sabendo que o carro custa R$60.00 por dia e R$0.15 por km rodado."
   ]
  },
  {
   "cell_type": "markdown",
   "id": "b420441f",
   "metadata": {},
   "source": []
  }
 ],
 "metadata": {
  "language_info": {
   "name": "python"
  }
 },
 "nbformat": 4,
 "nbformat_minor": 5
}
